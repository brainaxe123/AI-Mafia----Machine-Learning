{
 "cells": [
  {
   "cell_type": "code",
   "execution_count": 2,
   "metadata": {},
   "outputs": [],
   "source": [
    "#Linear Regression from scratch"
   ]
  },
  {
   "cell_type": "code",
   "execution_count": 20,
   "metadata": {},
   "outputs": [],
   "source": [
    "import numpy as np\n",
    "import pandas as pd\n",
    "import matplotlib.pyplot as plt\n",
    "\n",
    "#Training_data\n",
    "dfx = pd.read_csv('D:/python libraries/t_data/Linear_X_Train.csv')\n",
    "dfy = pd.read_csv('D:/python libraries/t_data/Linear_Y_Train.csv')\n",
    "x= dfx.values\n",
    "y= dfy.values\n",
    "#print(y)\n",
    "\n"
   ]
  },
  {
   "cell_type": "code",
   "execution_count": 127,
   "metadata": {},
   "outputs": [
    {
     "name": "stdout",
     "output_type": "stream",
     "text": [
      "(3750,)\n"
     ]
    }
   ],
   "source": [
    "x.reshape((-1,1))\n",
    "print(x.shape)\n",
    "y=y.reshape((-1,1))\n"
   ]
  },
  {
   "cell_type": "code",
   "execution_count": 114,
   "metadata": {},
   "outputs": [
    {
     "data": {
      "image/png": "[encoded data removed]",
      "text/plain": [
       "<Figure size 432x288 with 1 Axes>"
      ]
     },
     "metadata": {
      "needs_background": "light"
     },
     "output_type": "display_data"
    }
   ],
   "source": [
    "plt.scatter(x,y)\n",
    "plt.show()"
   ]
  },
  {
   "cell_type": "code",
   "execution_count": 115,
   "metadata": {},
   "outputs": [
    {
     "data": {
      "image/png": "[encoded data removed]",
      "text/plain": [
       "<Figure size 432x288 with 1 Axes>"
      ]
     },
     "metadata": {
      "needs_background": "light"
     },
     "output_type": "display_data"
    }
   ],
   "source": [
    "#Normalising\n",
    "X = (x-x.mean())/x.std()\n",
    "Y = y\n",
    "plt.scatter(X,Y)\n",
    "plt.show()"
   ]
  },
  {
   "cell_type": "code",
   "execution_count": 116,
   "metadata": {},
   "outputs": [],
   "source": [
    "#Hypothesis\n",
    "def hypothesis(x,theta):\n",
    "    return theta[0] + theta[1]*x\n",
    "def error(X,Y,theta):\n",
    "    m=X.shape[0]\n",
    "    error=0\n",
    "    \n",
    "    for i in range(m):\n",
    "        hx=hypothesis(X[i],theta)\n",
    "        error+=(hx-Y[i])**2\n",
    "    return error    "
   ]
  },
  {
   "cell_type": "code",
   "execution_count": 117,
   "metadata": {},
   "outputs": [],
   "source": [
    "def gradient(X,Y,theta):\n",
    "    grad=np.zeros((2,))\n",
    "    m = X.shape[0]\n",
    "    for i in range (m):\n",
    "        hx=hypothesis(X[i],theta)\n",
    "        grad[0] += hx - Y[i]\n",
    "        grad[1] += (hx - Y[i])*X[i]\n",
    "    \n",
    "    return grad    \n",
    "        "
   ]
  },
  {
   "cell_type": "code",
   "execution_count": 118,
   "metadata": {},
   "outputs": [],
   "source": [
    "#Assuming max iterations after which minima is reached\n",
    "\n",
    "def gradientDescent(X,Y,learning_rate = 0.00001) :\n",
    "    \n",
    "    theta = np.array([-2.0,0.0])\n",
    "    \n",
    "    itr = 0\n",
    "    max_itr = 100\n",
    "    error_list = []\n",
    "    theta_list = []\n",
    "    \n",
    "    while(itr < max_itr) :\n",
    "        grad = gradient(X,Y,theta)\n",
    "        e = error(X,Y,theta)\n",
    "        \n",
    "        error_list.append(e)\n",
    "        theta_list.append((theta[0],theta[1]))\n",
    "        \n",
    "        theta[0] = theta[0] - learning_rate*grad[0]\n",
    "        theta[1] = theta[1] - learning_rate*grad[1]\n",
    "        \n",
    "        itr+=1\n",
    "    \n",
    "    return theta,error_list,theta_list    "
   ]
  },
  {
   "cell_type": "code",
   "execution_count": 119,
   "metadata": {},
   "outputs": [],
   "source": [
    "final_theta, error_list,theta_list = gradientDescent(X,Y)"
   ]
  },
  {
   "cell_type": "code",
   "execution_count": 120,
   "metadata": {},
   "outputs": [],
   "source": [
    "final_theta, error_list,theta_list = gradientDescent(X,Y)"
   ]
  },
  {
   "cell_type": "code",
   "execution_count": 121,
   "metadata": {},
   "outputs": [
    {
     "data": {
      "image/png": "[encoded data removed]",
      "text/plain": [
       "<Figure size 432x288 with 1 Axes>"
      ]
     },
     "metadata": {
      "needs_background": "light"
     },
     "output_type": "display_data"
    }
   ],
   "source": [
    "plt.plot(error_list)\n",
    "plt.show()"
   ]
  },
  {
   "cell_type": "code",
   "execution_count": 123,
   "metadata": {},
   "outputs": [
    {
     "name": "stdout",
     "output_type": "stream",
     "text": [
      "[ 0.62514233 78.15729273]\n"
     ]
    }
   ],
   "source": [
    "print(final_theta)"
   ]
  },
  {
   "cell_type": "code",
   "execution_count": 124,
   "metadata": {},
   "outputs": [],
   "source": [
    "#testing_data\n",
    "test_df = pd.read_csv('D:/python libraries/Test_data/Linear_X_Test.csv')"
   ]
  },
  {
   "cell_type": "code",
   "execution_count": 125,
   "metadata": {},
   "outputs": [
    {
     "name": "stdout",
     "output_type": "stream",
     "text": [
      "[-1.87794441 -0.86903192 -2.53018242 ...  0.12800782 -0.27803759\n",
      " -0.68042543]\n"
     ]
    }
   ],
   "source": [
    "#print(test_df)\n",
    "t_x = test_df.values\n",
    "\n",
    "#print(t_x)\n",
    "t_x=t_x.reshape(t_x.shape[0],)\n",
    "print(t_x)\n"
   ]
  },
  {
   "cell_type": "code",
   "execution_count": 126,
   "metadata": {},
   "outputs": [
    {
     "data": {
      "image/png": "[encoded data removed]",
      "text/plain": [
       "<Figure size 432x288 with 1 Axes>"
      ]
     },
     "metadata": {
      "needs_background": "light"
     },
     "output_type": "display_data"
    }
   ],
   "source": [
    "plt.scatter(X,Y,label='Training Data')\n",
    "\n",
    "plt.plot(t_x,hypothesis(t_x,final_theta),color='orange',label=\"Prediction\")\n",
    "plt.legend()\n",
    "plt.show()"
   ]
  },
  {
   "cell_type": "code",
   "execution_count": null,
   "metadata": {},
   "outputs": [],
   "source": []
  }
 ],
 "metadata": {
  "kernelspec": {
   "display_name": "Python 3",
   "language": "python",
   "name": "python3"
  },
  "language_info": {
   "codemirror_mode": {
    "name": "ipython",
    "version": 3
   },
   "file_extension": ".py",
   "mimetype": "text/x-python",
   "name": "python",
   "nbconvert_exporter": "python",
   "pygments_lexer": "ipython3",
   "version": "3.7.4"
  }
 },
 "nbformat": 4,
 "nbformat_minor": 2
}
